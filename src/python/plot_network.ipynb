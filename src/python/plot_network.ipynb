{
 "cells": [
  {
   "cell_type": "code",
   "execution_count": 44,
   "metadata": {},
   "outputs": [],
   "source": [
    "import json\n",
    "import networkx as nx\n",
    "import matplotlib as mpl\n",
    "import matplotlib.pyplot as plt\n",
    "from matplotlib.pyplot import figure\n",
    "import matplotlib.cm as cm\n",
    "import numpy as np\n",
    "import random"
   ]
  },
  {
   "cell_type": "code",
   "execution_count": 45,
   "metadata": {},
   "outputs": [],
   "source": [
    "# Open the JSON file\n",
    "with open('../../data/GasLib-40/network.json', 'r') as file:\n",
    "    # Load the JSON data\n",
    "    data = json.load(file)\n",
    "    \n",
    "    nodes = data['nodes']\n",
    "    node_data = list(\n",
    "        map(lambda v: (v['id'], v['x_coord'], v['y_coord']), \n",
    "            sorted(nodes.values(), key=lambda x:x['id'])\n",
    "        )\n",
    "    )\n",
    "    pipes = data['pipes']\n",
    "    pipe_data = list(\n",
    "        map(lambda v: (v['id'], v['fr_node'], v['to_node']),\n",
    "            sorted(pipes.values(), key=lambda x: x['id'])    \n",
    "        )\n",
    "    )\n",
    "    compressors = data['compressors']\n",
    "    compressor_data = list(\n",
    "        map(lambda v: (v['id'], v['fr_node'], v['to_node']),\n",
    "            sorted(compressors.values(), key=lambda x: x['id'])    \n",
    "        )\n",
    "    )\n",
    "    entries = data['entries']\n",
    "    exits = data['exits']\n",
    "    entry_data = list(\n",
    "        map(lambda v: (v['id'], v['node_id']),\n",
    "            sorted(entries.values(), key=lambda x: x['id'])\n",
    "        )\n",
    "    )\n",
    "    exit_data = list(\n",
    "        map(lambda v: (v['id'], v['node_id']), \n",
    "            sorted(exits.values(), key=lambda x: x['id'])\n",
    "        )\n",
    "    )"
   ]
  },
  {
   "cell_type": "code",
   "execution_count": 47,
   "metadata": {},
   "outputs": [
    {
     "data": {
      "image/png": "[encoded data removed]",
      "text/plain": [
       "<Figure size 300x300 with 1 Axes>"
      ]
     },
     "metadata": {},
     "output_type": "display_data"
    }
   ],
   "source": [
    "# Create an empty graph\n",
    "fig, ax = plt.subplots()\n",
    "G = nx.Graph()\n",
    "\n",
    "import matplotlib\n",
    "matplotlib.rcParams.update({\n",
    "    'text.usetex': True,\n",
    "    'font.family': 'serif',\n",
    "    'font.size' : 12,\n",
    "    'pgf.rcfonts': False,\n",
    "})\n",
    "\n",
    "from itertools import chain\n",
    "compressor_node_data = list(map(lambda x: [x[1], x[2]], compressor_data))\n",
    "compressor_nodes = list(set(chain.from_iterable(compressor_node_data)))\n",
    "\n",
    "for (i, x, y) in node_data: \n",
    "    G.add_node(i, pos=(x, y))\n",
    "\n",
    "color_map = []\n",
    "for node in G:\n",
    "    if node in compressor_nodes:\n",
    "        color_map.append('red')\n",
    "    else: \n",
    "        color_map.append('black')      \n",
    "\n",
    "# Get the positions of the nodes\n",
    "pos = nx.get_node_attributes(G, 'pos')\n",
    "color = nx.get_node_attributes(G, 'color')\n",
    "\n",
    "fr_nodes = list(map(lambda x: x[1], pipe_data)) \n",
    "to_nodes = list(map(lambda x: x[2], pipe_data))\n",
    "fr_nodes += list(map(lambda x: x[1], compressor_data))\n",
    "to_nodes += list(map(lambda x: x[2], compressor_data))\n",
    "\n",
    "# Add edges\n",
    "edges = zip(fr_nodes, to_nodes)\n",
    "G.add_edges_from(edges)\n",
    "\n",
    "fig.set_size_inches(3, 3)\n",
    "nx.draw(G, pos=pos, node_color=color_map, node_size=2, width=0.5)\n",
    "\n",
    "plt.savefig('GasLib-40.pdf')\n",
    "\n",
    "plt.show()"
   ]
  }
 ],
 "metadata": {
  "kernelspec": {
   "display_name": "Python 3",
   "language": "python",
   "name": "python3"
  },
  "language_info": {
   "codemirror_mode": {
    "name": "ipython",
    "version": 3
   },
   "file_extension": ".py",
   "mimetype": "text/x-python",
   "name": "python",
   "nbconvert_exporter": "python",
   "pygments_lexer": "ipython3",
   "version": "3.11.3"
  },
  "orig_nbformat": 4
 },
 "nbformat": 4,
 "nbformat_minor": 2
}
